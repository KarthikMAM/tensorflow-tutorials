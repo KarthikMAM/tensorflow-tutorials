{
 "cells": [
  {
   "cell_type": "markdown",
   "metadata": {},
   "source": [
    "# Tensorflow Introduction"
   ]
  },
  {
   "cell_type": "markdown",
   "metadata": {},
   "source": [
    "### Tensors\n",
    "\n",
    "- Every thing in tensorflow is a tensor\n",
    "- A tensor is basically a set of primitive values shaped into an array of any number of dimensions\n",
    "- Each tensor has a rank which is the number of dimensions it has\n",
    "\n",
    "```python\n",
    "\n",
    "3 # This has a rank of 0\n",
    "[1, 2, 3] # This has a rank of 1\n",
    "[ [1, 2, 3], [4, 5, 6] ] # This has a rank of 2\n",
    "\n",
    "```"
   ]
  },
  {
   "cell_type": "markdown",
   "metadata": {},
   "source": [
    "### Tensorflow Core Tutorials"
   ]
  },
  {
   "cell_type": "code",
   "execution_count": 1,
   "metadata": {
    "collapsed": true
   },
   "outputs": [],
   "source": [
    "import tensorflow as tf"
   ]
  },
  {
   "cell_type": "markdown",
   "metadata": {},
   "source": [
    "### Sections of a Tensorflow Program\n",
    "\n",
    "- Building the computational graph\n",
    "- Running the computational graph\n",
    "\n",
    "\n",
    "### Computational Graph\n",
    "\n",
    "- It is a series of tensorflow operations arranged into a graph of nodes.\n",
    "- Each node takes 0 or more tensors and produces a tensor as an output."
   ]
  },
  {
   "cell_type": "markdown",
   "metadata": {},
   "source": [
    "### Constants\n",
    "\n",
    "+ INPUTS: 0\n",
    "+ OUTPUS: 1 tensor which it stores internally"
   ]
  },
  {
   "cell_type": "code",
   "execution_count": 2,
   "metadata": {
    "collapsed": false
   },
   "outputs": [
    {
     "name": "stdout",
     "output_type": "stream",
     "text": [
      "Tensor(\"Const:0\", shape=(), dtype=float32)\n",
      "Tensor(\"Const_1:0\", shape=(), dtype=float32)\n"
     ]
    }
   ],
   "source": [
    "nodeA = tf.constant(3.0)\n",
    "nodeB = tf.constant(4.0)\n",
    "\n",
    "print (nodeA, nodeB, sep='\\n')"
   ]
  },
  {
   "cell_type": "markdown",
   "metadata": {},
   "source": [
    "### No Output :(\n",
    "\n",
    "- If you notice the above code, they don't produce any output that we might expect.\n",
    "- This is because we have only defined a computational graph.\n",
    "- We haven't run the graph yet\n",
    "\n",
    "### Sessions\n",
    "\n",
    "- To actually evaluate a node, we must run the computational graph with the above said operations.\n",
    "- The sessions encapsulates the control and the state of the tensorflow runtime"
   ]
  },
  {
   "cell_type": "markdown",
   "metadata": {},
   "source": [
    "#### Sessions where everything has to be defined before it starts"
   ]
  },
  {
   "cell_type": "code",
   "execution_count": 3,
   "metadata": {
    "collapsed": false
   },
   "outputs": [
    {
     "name": "stdout",
     "output_type": "stream",
     "text": [
      "EXPECTED OUTPUT: [3.0, 4.0]\n"
     ]
    }
   ],
   "source": [
    "with tf.Session() as sess:\n",
    "    print('EXPECTED OUTPUT:', sess.run([nodeA, nodeB]))"
   ]
  },
  {
   "cell_type": "markdown",
   "metadata": {},
   "source": [
    "#### Sessions where we can inline the creation and running of the computational graph"
   ]
  },
  {
   "cell_type": "code",
   "execution_count": 4,
   "metadata": {
    "collapsed": false
   },
   "outputs": [
    {
     "name": "stdout",
     "output_type": "stream",
     "text": [
      "7.0\n",
      "[3.0, 4.0]\n"
     ]
    }
   ],
   "source": [
    "sess1 = tf.InteractiveSession()\n",
    "print(sess1.run(nodeA + nodeB))\n",
    "print(sess1.run([nodeA, nodeB]))"
   ]
  },
  {
   "cell_type": "markdown",
   "metadata": {},
   "source": [
    "### Tensorflow Operations\n",
    "\n",
    "- Each node in a computational graph takes a tensor as a input and produces a tensor as an output\n",
    "- These form the operations in tensorflow\n",
    "- By clubbing operations and tensors we can model complicated computations\n",
    "\n",
    "Example:\n",
    "\n",
    "![AddingConstants](https://www.tensorflow.org/images/getting_started_add.png)"
   ]
  },
  {
   "cell_type": "code",
   "execution_count": 5,
   "metadata": {
    "collapsed": false
   },
   "outputs": [
    {
     "name": "stdout",
     "output_type": "stream",
     "text": [
      "Tensor(\"Add:0\", shape=(), dtype=float32)\n"
     ]
    }
   ],
   "source": [
    "nodeC = tf.add(nodeA, nodeB)\n",
    "\n",
    "print(nodeC, end='\\n')"
   ]
  },
  {
   "cell_type": "code",
   "execution_count": 6,
   "metadata": {
    "collapsed": false
   },
   "outputs": [
    {
     "name": "stdout",
     "output_type": "stream",
     "text": [
      "RESULT OF A + B: [7.0]\n"
     ]
    }
   ],
   "source": [
    "with tf.Session() as sess:\n",
    "    print('RESULT OF A + B:', sess.run([nodeC]))"
   ]
  },
  {
   "cell_type": "markdown",
   "metadata": {},
   "source": [
    "### A not so Complex Graph"
   ]
  },
  {
   "cell_type": "code",
   "execution_count": 7,
   "metadata": {
    "collapsed": false
   },
   "outputs": [
    {
     "name": "stdout",
     "output_type": "stream",
     "text": [
      "NOT SO COMPLEX GRAPH: Tensor(\"add_1:0\", shape=(), dtype=int32)\n"
     ]
    }
   ],
   "source": [
    "a = tf.constant(3)\n",
    "b = tf.constant(5)\n",
    "c = tf.constant(6)\n",
    "\n",
    "d = a ** 2 + b * c\n",
    "\n",
    "print('NOT SO COMPLEX GRAPH:', d)"
   ]
  },
  {
   "cell_type": "code",
   "execution_count": 8,
   "metadata": {
    "collapsed": false
   },
   "outputs": [
    {
     "name": "stdout",
     "output_type": "stream",
     "text": [
      "NOT SO COMPLEX GRAPH RESULT: 39\n"
     ]
    }
   ],
   "source": [
    "with tf.Session() as sess:\n",
    "    print('NOT SO COMPLEX GRAPH RESULT:', sess.run(d))"
   ]
  },
  {
   "cell_type": "markdown",
   "metadata": {},
   "source": [
    "### Tensorflow Placeholders\n",
    "\n",
    "- A placeholder is a promise to provide a value later"
   ]
  },
  {
   "cell_type": "code",
   "execution_count": 9,
   "metadata": {
    "collapsed": false
   },
   "outputs": [
    {
     "name": "stdout",
     "output_type": "stream",
     "text": [
      "Tensor(\"Placeholder:0\", dtype=float32)\n",
      "Tensor(\"Placeholder_1:0\", dtype=float32)\n"
     ]
    }
   ],
   "source": [
    "placeholderA = tf.placeholder(tf.float32)\n",
    "placeholderB = tf.placeholder(tf.float32)\n",
    "\n",
    "print(placeholderA, placeholderB, sep='\\n')"
   ]
  },
  {
   "cell_type": "code",
   "execution_count": 10,
   "metadata": {
    "collapsed": false
   },
   "outputs": [
    {
     "name": "stdout",
     "output_type": "stream",
     "text": [
      "Tensor(\"add_2:0\", dtype=float32)\n"
     ]
    }
   ],
   "source": [
    "adderNode = placeholderA + placeholderB\n",
    "\n",
    "print(adderNode)"
   ]
  },
  {
   "cell_type": "code",
   "execution_count": 11,
   "metadata": {
    "collapsed": false,
    "scrolled": true
   },
   "outputs": [
    {
     "name": "stdout",
     "output_type": "stream",
     "text": [
      "ADD: 7.0\n",
      "ADD: [ 4.  9.]\n"
     ]
    }
   ],
   "source": [
    "with tf.Session() as sess:\n",
    "    print('ADD:', sess.run(adderNode, {placeholderA: 3, placeholderB: 4}))\n",
    "    print('ADD:', sess.run(adderNode, {placeholderA: [1, 2], placeholderB: [3, 7]}))"
   ]
  },
  {
   "cell_type": "markdown",
   "metadata": {},
   "source": [
    "##### But what if you want to add multi-dimensional array elements"
   ]
  },
  {
   "cell_type": "code",
   "execution_count": 12,
   "metadata": {
    "collapsed": false
   },
   "outputs": [
    {
     "name": "stdout",
     "output_type": "stream",
     "text": [
      "ADD MULTI:\n",
      " [[[2 3]\n",
      "  [4 5]]\n",
      "\n",
      " [[3 4]\n",
      "  [5 6]]]\n"
     ]
    }
   ],
   "source": [
    "multiPlaceholderA = tf.placeholder(tf.int32, shape=[None, 2, 2])\n",
    "multiPlaceholderB = tf.placeholder(tf.int32)\n",
    "\n",
    "adderNodeMulti = multiPlaceholderA + multiPlaceholderB\n",
    "\n",
    "with tf.Session() as sess:\n",
    "    print('ADD MULTI:\\n', sess.run(adderNodeMulti, {\n",
    "        multiPlaceholderA: [\n",
    "            [[1,2], [3,4]], \n",
    "            [[2,3], [4,5]]\n",
    "        ], multiPlaceholderB: 1}))"
   ]
  },
  {
   "cell_type": "markdown",
   "metadata": {},
   "source": [
    "### Variables\n",
    "\n",
    "- By default constants have their value initialized when the session starts. This is not the case with the variables.\n",
    "- So we need to initialize them before we use them."
   ]
  },
  {
   "cell_type": "code",
   "execution_count": 13,
   "metadata": {
    "collapsed": false
   },
   "outputs": [
    {
     "name": "stdout",
     "output_type": "stream",
     "text": [
      "CONSTANTS ARE INITIALIZED: 3\n"
     ]
    }
   ],
   "source": [
    "# This will work\n",
    "constA = tf.constant(1)\n",
    "constB = tf.constant(2)\n",
    "constC = constA + constB\n",
    "\n",
    "with tf.Session() as sess:\n",
    "    print('CONSTANTS ARE INITIALIZED:', sess.run(constC))"
   ]
  },
  {
   "cell_type": "code",
   "execution_count": 14,
   "metadata": {
    "collapsed": false
   },
   "outputs": [
    {
     "name": "stdout",
     "output_type": "stream",
     "text": [
      "ERROR: This threw an error because we didn`t initialize a and b\n"
     ]
    }
   ],
   "source": [
    "# This will not work\n",
    "varA = tf.Variable([1.])\n",
    "varB = tf.Variable([2.])\n",
    "varC = varA + varB\n",
    "\n",
    "\n",
    "with tf.Session() as sess:\n",
    "    try:\n",
    "        sess.run(varC)\n",
    "    except:\n",
    "        print('ERROR:', 'This threw an error because we didn`t initialize a and b')"
   ]
  },
  {
   "cell_type": "code",
   "execution_count": 15,
   "metadata": {
    "collapsed": false
   },
   "outputs": [
    {
     "name": "stdout",
     "output_type": "stream",
     "text": [
      "OUTPUT: [ 3.]\n",
      "No Error... :P\n"
     ]
    }
   ],
   "source": [
    "with tf.Session() as sess:\n",
    "    sess.run(tf.global_variables_initializer())\n",
    "\n",
    "    print('OUTPUT:', sess.run(varC))\n",
    "\n",
    "    print('No Error... :P')"
   ]
  },
  {
   "cell_type": "markdown",
   "metadata": {},
   "source": [
    "### Simple Linear Model"
   ]
  },
  {
   "cell_type": "markdown",
   "metadata": {},
   "source": [
    "#### Creation and Running the model"
   ]
  },
  {
   "cell_type": "code",
   "execution_count": 16,
   "metadata": {
    "collapsed": false
   },
   "outputs": [
    {
     "name": "stdout",
     "output_type": "stream",
     "text": [
      "[ 0.40000001  0.5         0.60000002  0.70000005]\n"
     ]
    }
   ],
   "source": [
    "x = tf.placeholder(tf.float32)\n",
    "b = tf.Variable(.3)\n",
    "W = tf.Variable(.10)\n",
    "\n",
    "y = W * x + b\n",
    "\n",
    "with tf.Session() as sess:\n",
    "    sess.run(tf.global_variables_initializer())\n",
    "    print(sess.run(y, {x: [1.,2.,3.,4.]}))"
   ]
  },
  {
   "cell_type": "markdown",
   "metadata": {},
   "source": [
    "#### Find out how good the model is\n",
    "\n",
    "- A loss measures how far apart the current model is from the provided data."
   ]
  },
  {
   "cell_type": "code",
   "execution_count": 17,
   "metadata": {
    "collapsed": false
   },
   "outputs": [
    {
     "name": "stdout",
     "output_type": "stream",
     "text": [
      "97.26\n"
     ]
    }
   ],
   "source": [
    "y_actual = tf.placeholder(tf.float32)\n",
    "\n",
    "loss = tf.reduce_sum(tf.square(y_actual - y))\n",
    "\n",
    "with tf.Session() as sess:\n",
    "    sess.run(tf.global_variables_initializer())\n",
    "    print(sess.run(loss, {x: [1,2,3,4], y_actual: [2,4,6,8]}))"
   ]
  },
  {
   "cell_type": "markdown",
   "metadata": {},
   "source": [
    "### Fix the model"
   ]
  },
  {
   "cell_type": "code",
   "execution_count": 18,
   "metadata": {
    "collapsed": false
   },
   "outputs": [
    {
     "name": "stdout",
     "output_type": "stream",
     "text": [
      "0.0\n"
     ]
    }
   ],
   "source": [
    "fixW = tf.assign(W, 2)\n",
    "fixb = tf.assign(b, 0)\n",
    "\n",
    "with tf.Session() as sess:\n",
    "    sess.run(tf.global_variables_initializer())\n",
    "    sess.run([fixW, fixb])\n",
    "    print(sess.run(loss, {x: [1,2,3,4], y_actual: [2,4,6,8]}))"
   ]
  }
 ],
 "metadata": {
  "kernelspec": {
   "display_name": "Python 3",
   "language": "python",
   "name": "python3"
  },
  "language_info": {
   "codemirror_mode": {
    "name": "ipython",
    "version": 3
   },
   "file_extension": ".py",
   "mimetype": "text/x-python",
   "name": "python",
   "nbconvert_exporter": "python",
   "pygments_lexer": "ipython3",
   "version": "3.6.0"
  }
 },
 "nbformat": 4,
 "nbformat_minor": 2
}
