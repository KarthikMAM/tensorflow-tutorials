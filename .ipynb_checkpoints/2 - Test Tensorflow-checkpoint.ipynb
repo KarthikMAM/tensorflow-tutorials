{
 "cells": [
  {
   "cell_type": "markdown",
   "metadata": {},
   "source": [
    "### Tensors\n",
    "\n",
    "- Every thing in tensorflow is a tensor\n",
    "- A tensor is basically a set of primitive values shaped into an array of any number of dimensions\n",
    "- Each tensor has a rank which is the number of dimensions it has\n",
    "\n",
    "```python\n",
    "\n",
    "3 # This has a rank of 0\n",
    "[1, 2, 3] # This has a rank of 1\n",
    "[ [1, 2, 3], [4, 5, 6] ] # This has a rank of 2\n",
    "\n",
    "```"
   ]
  },
  {
   "cell_type": "code",
   "execution_count": 1,
   "metadata": {
    "collapsed": true
   },
   "outputs": [],
   "source": [
    "import tensorflow as tf"
   ]
  },
  {
   "cell_type": "markdown",
   "metadata": {},
   "source": [
    "### Sections of a Tensorflow Program\n",
    "\n",
    "- Building the computational graph\n",
    "- Running the computational graph\n",
    "\n",
    "### Computational Graph\n",
    "\n",
    "- It is a series of tensorflow operations arranged into a graph of nodes."
   ]
  },
  {
   "cell_type": "code",
   "execution_count": null,
   "metadata": {
    "collapsed": true
   },
   "outputs": [],
   "source": [
    "nodeA = tf.constant(3.0)\n",
    "nodeB = tf.constant(4.0)\n",
    "\n",
    "print (nodeA, nodeB, sep='\\n')"
   ]
  },
  {
   "cell_type": "markdown",
   "metadata": {},
   "source": [
    "### No Output :(\n",
    "\n",
    "- If you notice the above code, they don't produce any output that we might expect.\n",
    "- This is because we have only defined a computational graph.\n",
    "- We haven't run the graph yet\n",
    "\n",
    "### Sessions\n",
    "\n",
    "- To actually evaluate a node, we must run the computational graph with the above said operations.\n",
    "- The sessions encapsulates the control and the state of the tensorflow runtime"
   ]
  },
  {
   "cell_type": "code",
   "execution_count": 4,
   "metadata": {
    "collapsed": false
   },
   "outputs": [
    {
     "name": "stdout",
     "output_type": "stream",
     "text": [
      "[3.0, 4.0, 7.0]\n"
     ]
    }
   ],
   "source": [
    "with tf.Session() as sess:\n",
    "    print(sess.run(nodeA, nodeB))"
   ]
  },
  {
   "cell_type": "markdown",
   "metadata": {},
   "source": [
    "### Tensorflow Operations\n",
    "\n",
    "- Each node in a computational graph takes a tensor as a input and produces a tensor as an output\n",
    "- These form the operations in tensorflow\n",
    "- By clubbing operations and tensors we can model complicated computations"
   ]
  },
  {
   "cell_type": "code",
   "execution_count": 3,
   "metadata": {
    "collapsed": false
   },
   "outputs": [
    {
     "name": "stdout",
     "output_type": "stream",
     "text": [
      "Tensor(\"Add:0\", shape=(), dtype=float32)\n"
     ]
    }
   ],
   "source": [
    "nodeC = tf.add(nodeA, nodeB)\n",
    "\n",
    "print(nodeC)\n",
    "\n",
    "with tf.Session as sess:\n",
    "    print(sess.run(nodeC))"
   ]
  },
  {
   "cell_type": "markdown",
   "metadata": {},
   "source": []
  }
 ],
 "metadata": {
  "kernelspec": {
   "display_name": "Python 3",
   "language": "python",
   "name": "python3"
  },
  "language_info": {
   "codemirror_mode": {
    "name": "ipython",
    "version": 3
   },
   "file_extension": ".py",
   "mimetype": "text/x-python",
   "name": "python",
   "nbconvert_exporter": "python",
   "pygments_lexer": "ipython3",
   "version": "3.6.0"
  }
 },
 "nbformat": 4,
 "nbformat_minor": 2
}
