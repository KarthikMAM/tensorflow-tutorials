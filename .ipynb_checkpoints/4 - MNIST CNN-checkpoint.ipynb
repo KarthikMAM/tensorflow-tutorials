{
 "cells": [
  {
   "cell_type": "markdown",
   "metadata": {},
   "source": [
    "## INTRODUCTION TO CNN USING TENSORFLOW"
   ]
  },
  {
   "cell_type": "markdown",
   "metadata": {},
   "source": [
    "### STEP 1: IMPORT LIBRARY AND LOAD DATASET"
   ]
  },
  {
   "cell_type": "code",
   "execution_count": 1,
   "metadata": {
    "collapsed": false
   },
   "outputs": [
    {
     "name": "stdout",
     "output_type": "stream",
     "text": [
      "Extracting MNIST_data/train-images-idx3-ubyte.gz\n",
      "Extracting MNIST_data/train-labels-idx1-ubyte.gz\n",
      "Extracting MNIST_data/t10k-images-idx3-ubyte.gz\n",
      "Extracting MNIST_data/t10k-labels-idx1-ubyte.gz\n"
     ]
    }
   ],
   "source": [
    "import tensorflow as tf\n",
    "\n",
    "from tensorflow.examples.tutorials.mnist import input_data\n",
    "mnist = input_data.read_data_sets('MNIST_data', one_hot=True)"
   ]
  },
  {
   "cell_type": "markdown",
   "metadata": {},
   "source": [
    "### STEP 2: CREATE AN INTERACTIVE SESSION"
   ]
  },
  {
   "cell_type": "code",
   "execution_count": 2,
   "metadata": {
    "collapsed": true
   },
   "outputs": [],
   "source": [
    "sess = tf.InteractiveSession()"
   ]
  },
  {
   "cell_type": "markdown",
   "metadata": {},
   "source": [
    "### STEP 3: DEFINE THE SHAPE OF OUR DATASET'S INPUT AND OUTPUT"
   ]
  },
  {
   "cell_type": "code",
   "execution_count": 3,
   "metadata": {
    "collapsed": true
   },
   "outputs": [],
   "source": [
    "x = tf.placeholder(tf.float32, shape=[None, 784])\n",
    "y_ = tf.placeholder(tf.float32, shape=[None, 10])"
   ]
  },
  {
   "cell_type": "markdown",
   "metadata": {},
   "source": [
    "### STEP 4: DEFINE WRAPPERS"
   ]
  },
  {
   "cell_type": "markdown",
   "metadata": {},
   "source": [
    "#### 1. FOR WEIGHTS AND BIASES"
   ]
  },
  {
   "cell_type": "code",
   "execution_count": 4,
   "metadata": {
    "collapsed": true
   },
   "outputs": [],
   "source": [
    "W = lambda W_shape: tf.Variable(tf.truncated_normal(W_shape, stddev=0.1))\n",
    "b = lambda b_shape: tf.Variable(tf.constant(0.1, shape=b_shape))"
   ]
  },
  {
   "cell_type": "markdown",
   "metadata": {},
   "source": [
    "#### 2. FOR CONVOLUTION AND POOLING LAYERS"
   ]
  },
  {
   "cell_type": "code",
   "execution_count": 5,
   "metadata": {
    "collapsed": true
   },
   "outputs": [],
   "source": [
    "def conv2d(x, W):\n",
    "    return tf.nn.conv2d(x, W, strides=[1, 1, 1, 1], padding='SAME')\n",
    "\n",
    "def max_pool_2x2(x):\n",
    "    return tf.nn.max_pool(x, ksize=[1, 2, 2, 1], strides=[1, 2, 2, 1], padding='SAME')"
   ]
  },
  {
   "cell_type": "markdown",
   "metadata": {},
   "source": [
    "### STEP 5: DEFINE MODEL"
   ]
  },
  {
   "cell_type": "markdown",
   "metadata": {},
   "source": [
    "#### LAYER 1: CONVOLUTIONAL LAYER WITH MAX POOLING"
   ]
  },
  {
   "cell_type": "code",
   "execution_count": 6,
   "metadata": {
    "collapsed": true
   },
   "outputs": [],
   "source": [
    "W_conv1 = W([5, 5, 1, 32])\n",
    "b_conv1 = b([32])\n",
    "x_conv1 = tf.reshape(x, [-1, 28, 28, 1])\n",
    "\n",
    "conv1 = tf.nn.relu(conv2d(x_conv1, W_conv1) + b_conv1)\n",
    "pool1 = max_pool_2x2(conv1)"
   ]
  },
  {
   "cell_type": "markdown",
   "metadata": {},
   "source": [
    "#### LAYER 2: CONVOLUTIONAL LAYER WITH MAX POOLING"
   ]
  },
  {
   "cell_type": "code",
   "execution_count": 7,
   "metadata": {
    "collapsed": true
   },
   "outputs": [],
   "source": [
    "W_conv2 = W([5, 5, 32, 64])\n",
    "b_conv2 = b([64])\n",
    "\n",
    "conv2 = tf.nn.relu(conv2d(pool1, W_conv2) + b_conv2)\n",
    "pool2 = max_pool_2x2(conv2)"
   ]
  },
  {
   "cell_type": "markdown",
   "metadata": {},
   "source": [
    "#### LAYER 3: DENSELY CONNECTED LAYER"
   ]
  },
  {
   "cell_type": "code",
   "execution_count": 8,
   "metadata": {
    "collapsed": true
   },
   "outputs": [],
   "source": [
    "W_fc1 = W([7 * 7 * 64, 1024])\n",
    "b_fc1 = b([1024])\n",
    "\n",
    "pool2_flat = tf.reshape(pool2, [-1, 7 * 7 * 64])\n",
    "fc1 = tf.nn.relu(tf.matmul(pool2_flat, W_fc1) + b_fc1)"
   ]
  },
  {
   "cell_type": "markdown",
   "metadata": {},
   "source": [
    "#### LAYER 5: READOUT LAYER"
   ]
  },
  {
   "cell_type": "code",
   "execution_count": 9,
   "metadata": {
    "collapsed": true
   },
   "outputs": [],
   "source": [
    "W_fc2 = W([1024, 10])\n",
    "b_fc2 = b([10])\n",
    "\n",
    "y_conv = tf.matmul(fc1, W_fc2) + b_fc2"
   ]
  },
  {
   "cell_type": "markdown",
   "metadata": {},
   "source": [
    "### STEP 6: DEFINE METRICS"
   ]
  },
  {
   "cell_type": "markdown",
   "metadata": {},
   "source": [
    "#### 1. LOSS IN THE FORM OF CROSS ENTROPY"
   ]
  },
  {
   "cell_type": "code",
   "execution_count": 10,
   "metadata": {
    "collapsed": true
   },
   "outputs": [],
   "source": [
    "cross_entropy = tf.reduce_mean(tf.nn.softmax_cross_entropy_with_logits(labels=y_, logits=y_conv))"
   ]
  },
  {
   "cell_type": "markdown",
   "metadata": {},
   "source": [
    "#### 2. TRAINING USING A GRADIENT DESCENT OPTIMIZER"
   ]
  },
  {
   "cell_type": "code",
   "execution_count": 11,
   "metadata": {
    "collapsed": true
   },
   "outputs": [],
   "source": [
    "train_step = tf.train.AdamOptimizer(0.01).minimize(cross_entropy)"
   ]
  },
  {
   "cell_type": "markdown",
   "metadata": {},
   "source": [
    "#### 3. ACCURACY OF THE MODEL"
   ]
  },
  {
   "cell_type": "code",
   "execution_count": 12,
   "metadata": {
    "collapsed": true
   },
   "outputs": [],
   "source": [
    "correct_prediction = tf.equal(tf.argmax(y_conv, 1), tf.argmax(y_, 1))\n",
    "accuracy = tf.reduce_mean(tf.cast(correct_prediction, tf.float32))"
   ]
  },
  {
   "cell_type": "markdown",
   "metadata": {},
   "source": [
    "### STEP 7: TRAIN MODEL"
   ]
  },
  {
   "cell_type": "code",
   "execution_count": 13,
   "metadata": {
    "collapsed": true
   },
   "outputs": [],
   "source": [
    "sess.run(tf.global_variables_initializer())"
   ]
  },
  {
   "cell_type": "code",
   "execution_count": 14,
   "metadata": {
    "collapsed": false
   },
   "outputs": [
    {
     "name": "stdout",
     "output_type": "stream",
     "text": [
      "STEP 0 : ACCURACY 0.15\n",
      "STEP 100 : ACCURACY 0.94\n",
      "STEP 200 : ACCURACY 0.97\n",
      "STEP 300 : ACCURACY 0.95\n",
      "STEP 400 : ACCURACY 0.96\n",
      "STEP 500 : ACCURACY 0.98\n",
      "STEP 600 : ACCURACY 0.96\n",
      "STEP 700 : ACCURACY 0.95\n",
      "STEP 800 : ACCURACY 0.98\n",
      "STEP 900 : ACCURACY 0.99\n",
      "STEP 1000 : ACCURACY 1.0\n",
      "STEP 1100 : ACCURACY 0.98\n",
      "STEP 1200 : ACCURACY 0.99\n",
      "STEP 1300 : ACCURACY 0.97\n",
      "STEP 1400 : ACCURACY 0.97\n",
      "STEP 1500 : ACCURACY 0.97\n",
      "STEP 1600 : ACCURACY 0.97\n",
      "STEP 1700 : ACCURACY 0.97\n",
      "STEP 1800 : ACCURACY 1.0\n",
      "STEP 1900 : ACCURACY 0.99\n"
     ]
    }
   ],
   "source": [
    "for i in range(2000):\n",
    "    batch = mnist.train.next_batch(100) \n",
    "    train_step.run(feed_dict={x: batch[0], y_: batch[1]})\n",
    "    \n",
    "    ### TEST OUR MODEL INBETWEEN\n",
    "    if i % 100 == 0:\n",
    "        train_accuracy = accuracy.eval(feed_dict={ x: batch[0], y_: batch[1] })\n",
    "        print('STEP', i, ':', 'ACCURACY', train_accuracy)"
   ]
  },
  {
   "cell_type": "markdown",
   "metadata": {},
   "source": [
    "### STEP 8: EVALUATE MODEL"
   ]
  },
  {
   "cell_type": "code",
   "execution_count": 15,
   "metadata": {
    "collapsed": false
   },
   "outputs": [
    {
     "name": "stdout",
     "output_type": "stream",
     "text": [
      "FINAL ACCURACY: 0.9699\n"
     ]
    }
   ],
   "source": [
    "final_accuracy = accuracy.eval(feed_dict={ x: mnist.test.images, y_: mnist.test.labels })\n",
    "print('FINAL ACCURACY:', final_accuracy)"
   ]
  }
 ],
 "metadata": {
  "kernelspec": {
   "display_name": "Python 3",
   "language": "python",
   "name": "python3"
  },
  "language_info": {
   "codemirror_mode": {
    "name": "ipython",
    "version": 3
   },
   "file_extension": ".py",
   "mimetype": "text/x-python",
   "name": "python",
   "nbconvert_exporter": "python",
   "pygments_lexer": "ipython3",
   "version": "3.6.0"
  }
 },
 "nbformat": 4,
 "nbformat_minor": 2
}
