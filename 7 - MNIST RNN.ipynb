{
 "cells": [
  {
   "cell_type": "markdown",
   "metadata": {},
   "source": [
    "## INTRODUCTION TO RNN USING TENSORFLOW\n",
    "\n",
    "#### ARCHITECTURE\n",
    "\n",
    "![](./images/rnn-basic-image)\n",
    "\n",
    "#### UNROLLED RNN\n",
    "\n",
    "![](./images/rnn-unrolled)"
   ]
  },
  {
   "cell_type": "markdown",
   "metadata": {},
   "source": [
    "### STEP 1: IMPORT LIBRARY AND LOAD DATASET"
   ]
  },
  {
   "cell_type": "code",
   "execution_count": 1,
   "metadata": {
    "collapsed": false
   },
   "outputs": [
    {
     "name": "stdout",
     "output_type": "stream",
     "text": [
      "Extracting MNIST_data/train-images-idx3-ubyte.gz\n",
      "Extracting MNIST_data/train-labels-idx1-ubyte.gz\n",
      "Extracting MNIST_data/t10k-images-idx3-ubyte.gz\n",
      "Extracting MNIST_data/t10k-labels-idx1-ubyte.gz\n"
     ]
    }
   ],
   "source": [
    "import tensorflow as tf\n",
    "\n",
    "from tensorflow.examples.tutorials.mnist import input_data\n",
    "mnist = input_data.read_data_sets('MNIST_data', one_hot=True)"
   ]
  },
  {
   "cell_type": "markdown",
   "metadata": {},
   "source": [
    "### STEP 2: CREATE AN INTERACTIVE SESSION"
   ]
  },
  {
   "cell_type": "code",
   "execution_count": 2,
   "metadata": {
    "collapsed": true
   },
   "outputs": [],
   "source": [
    "sess = tf.InteractiveSession()"
   ]
  },
  {
   "cell_type": "markdown",
   "metadata": {},
   "source": [
    "### STEP 3: DEFINE THE SHAPE OF OUR DATASET"
   ]
  },
  {
   "cell_type": "code",
   "execution_count": 3,
   "metadata": {
    "collapsed": true
   },
   "outputs": [],
   "source": [
    "x = tf.placeholder(tf.float32, shape=[None, 28, 28])\n",
    "y_ = tf.placeholder(tf.float32, shape=[None, 10])"
   ]
  },
  {
   "cell_type": "markdown",
   "metadata": {},
   "source": [
    "### STEP 4: DEFINE HELPER FUNCTIONS"
   ]
  },
  {
   "cell_type": "markdown",
   "metadata": {},
   "source": [
    "#### 1. FOR WEIGHTS AND BIASES"
   ]
  },
  {
   "cell_type": "code",
   "execution_count": 4,
   "metadata": {
    "collapsed": true
   },
   "outputs": [],
   "source": [
    "W = lambda shape: tf.Variable(tf.truncated_normal(shape, stddev=0.1))\n",
    "b = lambda shape: tf.Variable(tf.constant(0.1, shape=shape))"
   ]
  },
  {
   "cell_type": "markdown",
   "metadata": {},
   "source": [
    "### STEP 5: DEFINE MODEL"
   ]
  },
  {
   "cell_type": "markdown",
   "metadata": {},
   "source": [
    "#### CREATE A RNN CELL"
   ]
  },
  {
   "cell_type": "code",
   "execution_count": 5,
   "metadata": {
    "collapsed": false
   },
   "outputs": [],
   "source": [
    "W_rnn = W(shape=[128, 10])\n",
    "b_rnn = b(shape=[10])\n",
    "x_rnn = tf.unstack(x, 28, 1)\n",
    "\n",
    "lstm_cell = tf.contrib.rnn.BasicLSTMCell(128, forget_bias=1.0)\n",
    "\n",
    "outputs, states = tf.contrib.rnn.static_rnn(lstm_cell, x_rnn, dtype=tf.float32)\n",
    "\n",
    "y_rnn = tf.matmul(outputs[-1], W_rnn) + b_rnn"
   ]
  },
  {
   "cell_type": "markdown",
   "metadata": {},
   "source": [
    "### STEP 6: DEFINE METRICS"
   ]
  },
  {
   "cell_type": "markdown",
   "metadata": {},
   "source": [
    "#### 1. LOSS IN THE FORM OF CROSS ENTROPY"
   ]
  },
  {
   "cell_type": "code",
   "execution_count": 6,
   "metadata": {
    "collapsed": false
   },
   "outputs": [],
   "source": [
    "cross_entropy = tf.reduce_mean(tf.nn.softmax_cross_entropy_with_logits(labels=y_, logits=y_rnn))"
   ]
  },
  {
   "cell_type": "markdown",
   "metadata": {},
   "source": [
    "#### 2. TRAINING USING ADAM OPTIMIZER"
   ]
  },
  {
   "cell_type": "code",
   "execution_count": 7,
   "metadata": {
    "collapsed": true
   },
   "outputs": [],
   "source": [
    "global_step = tf.Variable(0, trainable=False)\n",
    "learning_rate = tf.train.exponential_decay(\n",
    "    learning_rate=0.5,\n",
    "    global_step=global_step,\n",
    "    decay_steps=10000,\n",
    "    decay_rate=0.9\n",
    ")"
   ]
  },
  {
   "cell_type": "code",
   "execution_count": 8,
   "metadata": {
    "collapsed": true
   },
   "outputs": [],
   "source": [
    "train_step = tf.train.AdamOptimizer(learning_rate).minimize(cross_entropy, global_step)"
   ]
  },
  {
   "cell_type": "markdown",
   "metadata": {},
   "source": [
    "#### 3. ACCURACY OF THE MODEL"
   ]
  },
  {
   "cell_type": "code",
   "execution_count": 9,
   "metadata": {
    "collapsed": true
   },
   "outputs": [],
   "source": [
    "correct_prediction = tf.equal(tf.argmax(y_rnn, 1), tf.argmax(y_, 1))\n",
    "accuracy = tf.reduce_mean(tf.cast(correct_prediction, tf.float32))"
   ]
  },
  {
   "cell_type": "markdown",
   "metadata": {},
   "source": [
    "### STEP 7: TRAIN MODEL"
   ]
  },
  {
   "cell_type": "code",
   "execution_count": 10,
   "metadata": {
    "collapsed": true
   },
   "outputs": [],
   "source": [
    "sess.run(tf.global_variables_initializer())"
   ]
  },
  {
   "cell_type": "code",
   "execution_count": 11,
   "metadata": {
    "collapsed": false
   },
   "outputs": [
    {
     "name": "stdout",
     "output_type": "stream",
     "text": [
      "STEP 0 : ACCURACY 0.25\n",
      "STEP 100 : ACCURACY 0.93\n",
      "STEP 200 : ACCURACY 0.91\n",
      "STEP 300 : ACCURACY 0.96\n",
      "STEP 400 : ACCURACY 0.96\n",
      "STEP 500 : ACCURACY 0.99\n",
      "STEP 600 : ACCURACY 0.98\n",
      "STEP 700 : ACCURACY 0.99\n",
      "STEP 800 : ACCURACY 1.0\n",
      "STEP 900 : ACCURACY 0.99\n"
     ]
    }
   ],
   "source": [
    "for i in range(1000):\n",
    "    batch = mnist.train.next_batch(100) \n",
    "    train_step.run(feed_dict={x: batch[0].reshape(-1, 28, 28), y_: batch[1]})\n",
    "    \n",
    "    ### TEST OUR MODEL INBETWEEN\n",
    "    if i % 100 == 0:\n",
    "        train_accuracy = accuracy.eval(feed_dict={ x: batch[0].reshape(-1, 28, 28), y_: batch[1] })\n",
    "        print('STEP', i, ':', 'ACCURACY', train_accuracy)"
   ]
  },
  {
   "cell_type": "markdown",
   "metadata": {},
   "source": [
    "### STEP 8: EVALUATE MODEL"
   ]
  },
  {
   "cell_type": "code",
   "execution_count": 12,
   "metadata": {
    "collapsed": false
   },
   "outputs": [
    {
     "name": "stdout",
     "output_type": "stream",
     "text": [
      "FINAL ACCURACY: 0.9693\n"
     ]
    }
   ],
   "source": [
    "final_accuracy = accuracy.eval(feed_dict={ x: mnist.test.images.reshape((-1, 28, 28)) , y_: mnist.test.labels })\n",
    "print('FINAL ACCURACY:', final_accuracy)"
   ]
  },
  {
   "cell_type": "markdown",
   "metadata": {},
   "source": [
    "### STEP 9: TEST PREDICTION"
   ]
  },
  {
   "cell_type": "code",
   "execution_count": 13,
   "metadata": {
    "collapsed": false
   },
   "outputs": [
    {
     "name": "stdout",
     "output_type": "stream",
     "text": [
      "ACTUAL VALUE: [[ 0.  0.  0.  0.  0.  0.  0.  1.  0.  0.]]\n"
     ]
    }
   ],
   "source": [
    "x_actual = mnist.test.images[0:1].reshape((-1, 28, 28))\n",
    "y_actual = mnist.test.labels[0:1]\n",
    "\n",
    "print('ACTUAL VALUE:', y_actual)"
   ]
  },
  {
   "cell_type": "code",
   "execution_count": 14,
   "metadata": {
    "collapsed": false
   },
   "outputs": [
    {
     "name": "stdout",
     "output_type": "stream",
     "text": [
      "PREDICTED VALUE: [[-2.85356975 -0.46849513  0.41614413  0.32991791 -0.63278311 -2.46221805\n",
      "  -3.66423392  8.1272316  -2.99285173  0.46855268]]\n"
     ]
    }
   ],
   "source": [
    "y_predicted = sess.run(y_rnn, feed_dict={x: x_actual})\n",
    "\n",
    "print('PREDICTED VALUE:', y_predicted)"
   ]
  },
  {
   "cell_type": "code",
   "execution_count": 15,
   "metadata": {
    "collapsed": false
   },
   "outputs": [
    {
     "name": "stdout",
     "output_type": "stream",
     "text": [
      "EXPECTED OUTPUT: [7]\n",
      "PREDICTED OUTPUT: [7]\n"
     ]
    }
   ],
   "source": [
    "output_actual = sess.run(tf.argmax(y_actual, 1))\n",
    "output_predicted = sess.run(tf.argmax(y_predicted, 1))\n",
    "\n",
    "print ('EXPECTED OUTPUT:', output_actual)\n",
    "print ('PREDICTED OUTPUT:', output_predicted)"
   ]
  }
 ],
 "metadata": {
  "kernelspec": {
   "display_name": "Python 3",
   "language": "python",
   "name": "python3"
  },
  "language_info": {
   "codemirror_mode": {
    "name": "ipython",
    "version": 3
   },
   "file_extension": ".py",
   "mimetype": "text/x-python",
   "name": "python",
   "nbconvert_exporter": "python",
   "pygments_lexer": "ipython3",
   "version": "3.6.0"
  }
 },
 "nbformat": 4,
 "nbformat_minor": 2
}
