{
 "cells": [
  {
   "cell_type": "markdown",
   "metadata": {},
   "source": [
    "# A Simple Linear Regression"
   ]
  },
  {
   "cell_type": "markdown",
   "metadata": {},
   "source": [
    "### STEP 1: IMPORT LIBRARY"
   ]
  },
  {
   "cell_type": "code",
   "execution_count": 1,
   "metadata": {
    "collapsed": true
   },
   "outputs": [],
   "source": [
    "import tensorflow as tf\n",
    "\n",
    "sess = tf.InteractiveSession()"
   ]
  },
  {
   "cell_type": "markdown",
   "metadata": {},
   "source": [
    "### STEP 2: PREPARE DATASET\n",
    "\n",
    "- ```y = x * W + b```"
   ]
  },
  {
   "cell_type": "code",
   "execution_count": 2,
   "metadata": {
    "collapsed": true
   },
   "outputs": [],
   "source": [
    "train_x = [ i for i in range(10) ]\n",
    "train_y = [ i * 3 + 10 for i in range(10) ] \n",
    "test_x = [ i for i in range(50, 70, 7) ]\n",
    "test_y = [ i * 3 + 10 for i in range(50, 70, 7) ]"
   ]
  },
  {
   "cell_type": "markdown",
   "metadata": {},
   "source": [
    "### STEP 3: DEFINE THE SHAPE OF OUR DATASET"
   ]
  },
  {
   "cell_type": "code",
   "execution_count": 3,
   "metadata": {
    "collapsed": true
   },
   "outputs": [],
   "source": [
    "x = tf.placeholder(tf.float32)\n",
    "y_ = tf.placeholder(tf.float32)"
   ]
  },
  {
   "cell_type": "markdown",
   "metadata": {},
   "source": [
    "### STEP 4: DEFINE HELPER FUNCTIONS"
   ]
  },
  {
   "cell_type": "code",
   "execution_count": null,
   "metadata": {
    "collapsed": true
   },
   "outputs": [],
   "source": []
  },
  {
   "cell_type": "markdown",
   "metadata": {},
   "source": [
    "### STEP 5: DEFINE MODEL"
   ]
  },
  {
   "cell_type": "code",
   "execution_count": 4,
   "metadata": {
    "collapsed": false
   },
   "outputs": [],
   "source": [
    "W = tf.Variable([.3], tf.float32)\n",
    "b = tf.Variable([-.3], tf.float32)\n",
    "\n",
    "y = x * W + b"
   ]
  },
  {
   "cell_type": "markdown",
   "metadata": {},
   "source": [
    "### STEP 6: DEFINE METRICS"
   ]
  },
  {
   "cell_type": "markdown",
   "metadata": {},
   "source": [
    "#### 1. LOSS\n",
    "\n",
    "- Here we are using the averaged squares of the predicted vs actual values as our loss function"
   ]
  },
  {
   "cell_type": "code",
   "execution_count": 5,
   "metadata": {
    "collapsed": true
   },
   "outputs": [],
   "source": [
    "loss = tf.reduce_sum(tf.square(y - y_))"
   ]
  },
  {
   "cell_type": "markdown",
   "metadata": {},
   "source": [
    "#### 2. TRAINING USING GRADIENT DESCENT OPTIMISER\n",
    "\n",
    "- The training is done by minimizing the loss function using `optimizer functions`.\n",
    "- The optimizers slowly change each variable inorder to minimize a loss function.\n",
    "- There are several kinds of optimizer functions like `GradientDescentOptimizer` or `AdamOptimizer` to name a few.\n",
    "- For example `GradientDescentOptimizer` as the name suggest modifies the variables according to the magnitude of the derivative of the loss function with respect to that variable."
   ]
  },
  {
   "cell_type": "code",
   "execution_count": 6,
   "metadata": {
    "collapsed": true
   },
   "outputs": [],
   "source": [
    "train_step = tf.train.GradientDescentOptimizer(0.001).minimize(loss)"
   ]
  },
  {
   "cell_type": "markdown",
   "metadata": {},
   "source": [
    "#### 3. ACCURACY"
   ]
  },
  {
   "cell_type": "code",
   "execution_count": 7,
   "metadata": {
    "collapsed": false
   },
   "outputs": [],
   "source": [
    "accuracy = 1 - tf.reduce_mean(tf.cast(((y - y_) / y_) ** 2, tf.float32))"
   ]
  },
  {
   "cell_type": "markdown",
   "metadata": {},
   "source": [
    "### STEP 7: TRAIN MODEL"
   ]
  },
  {
   "cell_type": "code",
   "execution_count": 8,
   "metadata": {
    "collapsed": false
   },
   "outputs": [],
   "source": [
    "sess.run(tf.global_variables_initializer())"
   ]
  },
  {
   "cell_type": "code",
   "execution_count": 9,
   "metadata": {
    "collapsed": false
   },
   "outputs": [
    {
     "name": "stdout",
     "output_type": "stream",
     "text": [
      "STEP   0`s ACCURACY 0.674633, LOSS 1193.489502\n",
      "STEP 100`s ACCURACY 0.948942, LOSS 85.439690\n",
      "STEP 200`s ACCURACY 0.983550, LOSS 27.526646\n",
      "STEP 300`s ACCURACY 0.994700, LOSS 8.868425\n",
      "STEP 400`s ACCURACY 0.998293, LOSS 2.857183\n",
      "STEP 500`s ACCURACY 0.999450, LOSS 0.920520\n",
      "STEP 600`s ACCURACY 0.999823, LOSS 0.296567\n",
      "STEP 700`s ACCURACY 0.999943, LOSS 0.095548\n",
      "STEP 800`s ACCURACY 0.999982, LOSS 0.030784\n",
      "STEP 900`s ACCURACY 0.999994, LOSS 0.009917\n"
     ]
    }
   ],
   "source": [
    "for i in range(1000):\n",
    "    train_step.run(feed_dict={x: train_x, y_: train_y})\n",
    "\n",
    "    if i % 100 == 0:\n",
    "        curr_loss, curr_accuracy = sess.run([loss, accuracy], feed_dict={x: train_x, y_: train_y})\n",
    "        \n",
    "        print('STEP %3d`s ACCURACY %f, LOSS %f' % (i, curr_accuracy, curr_loss))"
   ]
  },
  {
   "cell_type": "markdown",
   "metadata": {},
   "source": [
    "### STEP 8: EVALUATE MODEL"
   ]
  },
  {
   "cell_type": "code",
   "execution_count": 10,
   "metadata": {
    "collapsed": false
   },
   "outputs": [
    {
     "name": "stdout",
     "output_type": "stream",
     "text": [
      "FINAL ACCURACY IS 0.999998 and LOSS IS 0.221884\n"
     ]
    }
   ],
   "source": [
    "final_loss, final_accuracy = sess.run([loss, accuracy], feed_dict={x: test_x, y_: test_y})\n",
    "\n",
    "print('FINAL ACCURACY IS %f and LOSS IS %f' % (final_accuracy, final_loss))"
   ]
  },
  {
   "cell_type": "markdown",
   "metadata": {},
   "source": [
    "### STEP 9: TEST PREDICTION"
   ]
  },
  {
   "cell_type": "code",
   "execution_count": 11,
   "metadata": {
    "collapsed": false,
    "scrolled": true
   },
   "outputs": [
    {
     "name": "stdout",
     "output_type": "stream",
     "text": [
      "ACTUAL VALUE: 46\n",
      "PREDICTED VALUE: [ 46.03052139]\n"
     ]
    }
   ],
   "source": [
    "x_actual = 12\n",
    "y_actual = x_actual * 3 + 10\n",
    "y_predict = sess.run(y, feed_dict={x: x_actual})\n",
    "\n",
    "print('ACTUAL VALUE:', y_actual)\n",
    "print('PREDICTED VALUE:', y_predict)"
   ]
  },
  {
   "cell_type": "markdown",
   "metadata": {},
   "source": [
    "### MISC"
   ]
  },
  {
   "cell_type": "markdown",
   "metadata": {},
   "source": [
    "#### COMPUTATION GRAPH\n",
    "\n",
    "![TensorBard Output](./images/simple-regression-graph)"
   ]
  },
  {
   "cell_type": "markdown",
   "metadata": {},
   "source": [
    "#### ```tf.contrib.learn```\n",
    "\n",
    "- This is the high level API which Tensorflow provides us\n",
    "- This manages running the loops training, evaluation loops\n",
    "- This also manages datasets and feeding inputs to our model"
   ]
  }
 ],
 "metadata": {
  "kernelspec": {
   "display_name": "Python 3",
   "language": "python",
   "name": "python3"
  },
  "language_info": {
   "codemirror_mode": {
    "name": "ipython",
    "version": 3
   },
   "file_extension": ".py",
   "mimetype": "text/x-python",
   "name": "python",
   "nbconvert_exporter": "python",
   "pygments_lexer": "ipython3",
   "version": "3.6.0"
  }
 },
 "nbformat": 4,
 "nbformat_minor": 2
}
