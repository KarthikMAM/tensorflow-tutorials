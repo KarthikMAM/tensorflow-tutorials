{
 "cells": [
  {
   "cell_type": "markdown",
   "metadata": {},
   "source": [
    "# TENSORFLOW SAVERS AND SUMMARY WRITERS"
   ]
  },
  {
   "cell_type": "markdown",
   "metadata": {},
   "source": [
    "### STEP 1: IMPORT LIBRARIES"
   ]
  },
  {
   "cell_type": "code",
   "execution_count": 1,
   "metadata": {
    "collapsed": false
   },
   "outputs": [],
   "source": [
    "import tensorflow as tf\n",
    "\n",
    "LOGDIR = './logs/10-savers/logs/'"
   ]
  },
  {
   "cell_type": "code",
   "execution_count": 2,
   "metadata": {
    "collapsed": true
   },
   "outputs": [],
   "source": [
    "sess = tf.InteractiveSession()"
   ]
  },
  {
   "cell_type": "markdown",
   "metadata": {},
   "source": [
    "### STEP 2: PREPARE DATASET\n",
    "\n",
    "- ```y = x * W + b```"
   ]
  },
  {
   "cell_type": "code",
   "execution_count": 3,
   "metadata": {
    "collapsed": true
   },
   "outputs": [],
   "source": [
    "train_x = [ i for i in range(10) ]\n",
    "train_y = [ i * 3 + 10 for i in range(10) ] \n",
    "test_x = [ i for i in range(50, 70, 7) ]\n",
    "test_y = [ i * 3 + 10 for i in range(50, 70, 7) ]"
   ]
  },
  {
   "cell_type": "markdown",
   "metadata": {},
   "source": [
    "### STEP 3: DEFINE THE SHAPE OF OUR DATASET"
   ]
  },
  {
   "cell_type": "code",
   "execution_count": 4,
   "metadata": {
    "collapsed": true
   },
   "outputs": [],
   "source": [
    "x = tf.placeholder(tf.float32, name='X')\n",
    "y_ = tf.placeholder(tf.float32,  name='Y_')"
   ]
  },
  {
   "cell_type": "markdown",
   "metadata": {},
   "source": [
    "### STEP 4: DEFINE HELPER FUNCTIONS"
   ]
  },
  {
   "cell_type": "code",
   "execution_count": null,
   "metadata": {
    "collapsed": true
   },
   "outputs": [],
   "source": []
  },
  {
   "cell_type": "markdown",
   "metadata": {},
   "source": [
    "### STEP 5: DEFINE MODEL"
   ]
  },
  {
   "cell_type": "code",
   "execution_count": 5,
   "metadata": {
    "collapsed": false
   },
   "outputs": [],
   "source": [
    "W = tf.Variable([.3], tf.float32, name='W')\n",
    "b = tf.Variable([-.3], tf.float32, name='b')\n",
    "\n",
    "y = tf.add(tf.multiply(W, x), b, name='Y')"
   ]
  },
  {
   "cell_type": "markdown",
   "metadata": {},
   "source": [
    "### STEP 6: DEFINE METRICS"
   ]
  },
  {
   "cell_type": "markdown",
   "metadata": {},
   "source": [
    "#### 1. LOSS"
   ]
  },
  {
   "cell_type": "code",
   "execution_count": 6,
   "metadata": {
    "collapsed": false
   },
   "outputs": [
    {
     "data": {
      "text/plain": [
       "<tf.Tensor 'LOSS:0' shape=() dtype=string>"
      ]
     },
     "execution_count": 6,
     "metadata": {},
     "output_type": "execute_result"
    }
   ],
   "source": [
    "loss = tf.reduce_sum(tf.square(y - y_))\n",
    "tf.summary.scalar('LOSS', loss)"
   ]
  },
  {
   "cell_type": "markdown",
   "metadata": {},
   "source": [
    "#### 2. TRAINING USING GRADIENT DESCENT OPTIMIZER"
   ]
  },
  {
   "cell_type": "code",
   "execution_count": 7,
   "metadata": {
    "collapsed": true
   },
   "outputs": [],
   "source": [
    "train_step = tf.train.GradientDescentOptimizer(0.001).minimize(loss)"
   ]
  },
  {
   "cell_type": "markdown",
   "metadata": {},
   "source": [
    "#### 3. ACCURACY"
   ]
  },
  {
   "cell_type": "code",
   "execution_count": 8,
   "metadata": {
    "collapsed": false
   },
   "outputs": [
    {
     "data": {
      "text/plain": [
       "<tf.Tensor 'ACCURACY:0' shape=() dtype=string>"
      ]
     },
     "execution_count": 8,
     "metadata": {},
     "output_type": "execute_result"
    }
   ],
   "source": [
    "accuracy = 1 - tf.reduce_mean(tf.cast(((y - y_) / y_) ** 2, tf.float32))\n",
    "tf.summary.scalar('ACCURACY', accuracy)"
   ]
  },
  {
   "cell_type": "markdown",
   "metadata": {},
   "source": [
    "### STEP 7: TRAIN MODEL"
   ]
  },
  {
   "cell_type": "markdown",
   "metadata": {},
   "source": [
    "#### CREATE SAVERS AND SUMMARY WRITERS"
   ]
  },
  {
   "cell_type": "code",
   "execution_count": 9,
   "metadata": {
    "collapsed": true
   },
   "outputs": [],
   "source": [
    "summary = tf.summary.merge_all()\n",
    "writer_train = tf.summary.FileWriter(LOGDIR+'train/')\n",
    "writer_test = tf.summary.FileWriter(LOGDIR+'test/')\n",
    "\n",
    "writer_train.add_graph(sess.graph)\n",
    "writer_test.add_graph(sess.graph)"
   ]
  },
  {
   "cell_type": "markdown",
   "metadata": {},
   "source": [
    "#### LOAD CHECKPOINTS IF AVAILABLE"
   ]
  },
  {
   "cell_type": "code",
   "execution_count": 10,
   "metadata": {
    "collapsed": false
   },
   "outputs": [
    {
     "name": "stdout",
     "output_type": "stream",
     "text": [
      "INFO:tensorflow:Restoring parameters from ./logs/10-savers/logs/-900-.ckpt\n",
      "LOADED: <tf.Variable 'W:0' shape=(1,) dtype=float32_ref>\n",
      "LOADED: <tf.Variable 'b:0' shape=(1,) dtype=float32_ref>\n"
     ]
    }
   ],
   "source": [
    "checkpoint = tf.train.latest_checkpoint(checkpoint_dir=LOGDIR)\n",
    "\n",
    "saver = tf.train.Saver(tf.global_variables())\n",
    "\n",
    "if checkpoint:\n",
    "    try:\n",
    "        saver.restore(sess, tf.train.latest_checkpoint(checkpoint_dir=LOGDIR))\n",
    "        \n",
    "        for i in tf.trainable_variables():\n",
    "            sess.run(i); print('LOADED:', i)\n",
    "    except: print('err')\n",
    "else:\n",
    "    try:\n",
    "        sess.run(tf.global_variables_initializer())\n",
    "    except:\n",
    "        sess.run(tf.initialize_all_variables())"
   ]
  },
  {
   "cell_type": "code",
   "execution_count": 11,
   "metadata": {
    "collapsed": false
   },
   "outputs": [
    {
     "name": "stdout",
     "output_type": "stream",
     "text": [
      "STEP   0`s ACCURACY 1.000000, LOSS 0.000000\n",
      "STEP 100`s ACCURACY 1.000000, LOSS 0.000000\n",
      "STEP 200`s ACCURACY 1.000000, LOSS 0.000000\n",
      "STEP 300`s ACCURACY 1.000000, LOSS 0.000000\n",
      "STEP 400`s ACCURACY 1.000000, LOSS 0.000000\n",
      "STEP 500`s ACCURACY 1.000000, LOSS 0.000000\n",
      "STEP 600`s ACCURACY 1.000000, LOSS 0.000000\n",
      "STEP 700`s ACCURACY 1.000000, LOSS 0.000000\n",
      "STEP 800`s ACCURACY 1.000000, LOSS 0.000000\n",
      "STEP 900`s ACCURACY 1.000000, LOSS 0.000000\n"
     ]
    }
   ],
   "source": [
    "for i in range(1000):\n",
    "    _, summ = sess.run([train_step, summary], feed_dict={x: train_x, y_: train_y})\n",
    "\n",
    "    writer_train.add_summary(summ, i)\n",
    "    \n",
    "    if i % 100 == 0:\n",
    "        saver.save(sess, LOGDIR +  '-' + str(i) + '-' + '.ckpt')\n",
    "\n",
    "        curr_loss, curr_accuracy, summ = sess.run([loss, accuracy, summary], feed_dict={x: train_x, y_: train_y})\n",
    "\n",
    "        writer_test.add_summary(summ, i)\n",
    "        \n",
    "        print('STEP %3d`s ACCURACY %f, LOSS %f' % (i, curr_accuracy, curr_loss))"
   ]
  },
  {
   "cell_type": "markdown",
   "metadata": {},
   "source": [
    "### STEP 8: EVALUATE MODEL"
   ]
  },
  {
   "cell_type": "code",
   "execution_count": 12,
   "metadata": {
    "collapsed": false
   },
   "outputs": [
    {
     "name": "stdout",
     "output_type": "stream",
     "text": [
      "FINAL ACCURACY IS 1.000000 and LOSS IS 0.000001\n"
     ]
    }
   ],
   "source": [
    "final_loss, final_accuracy = sess.run([loss, accuracy], feed_dict={x: test_x, y_: test_y})\n",
    "\n",
    "print('FINAL ACCURACY IS %f and LOSS IS %f' % (final_accuracy, final_loss))"
   ]
  },
  {
   "cell_type": "markdown",
   "metadata": {},
   "source": [
    "### STEP 9: TEST PREDICTION"
   ]
  },
  {
   "cell_type": "code",
   "execution_count": 13,
   "metadata": {
    "collapsed": false
   },
   "outputs": [
    {
     "name": "stdout",
     "output_type": "stream",
     "text": [
      "ACTUAL VALUE: 46\n",
      "PREDICTED VALUE: [ 46.00008011]\n"
     ]
    }
   ],
   "source": [
    "x_actual = 12\n",
    "y_actual = x_actual * 3 + 10\n",
    "y_predict = sess.run(y, feed_dict={x: x_actual})\n",
    "\n",
    "print('ACTUAL VALUE:', y_actual)\n",
    "print('PREDICTED VALUE:', y_predict)"
   ]
  }
 ],
 "metadata": {
  "kernelspec": {
   "display_name": "Python 3",
   "language": "python",
   "name": "python3"
  },
  "language_info": {
   "codemirror_mode": {
    "name": "ipython",
    "version": 3
   },
   "file_extension": ".py",
   "mimetype": "text/x-python",
   "name": "python",
   "nbconvert_exporter": "python",
   "pygments_lexer": "ipython3",
   "version": "3.6.0"
  }
 },
 "nbformat": 4,
 "nbformat_minor": 2
}
